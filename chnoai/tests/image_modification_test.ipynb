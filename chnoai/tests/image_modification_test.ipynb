{
 "cells": [
  {
   "cell_type": "code",
   "execution_count": null,
   "metadata": {},
   "outputs": [],
   "source": [
    "import matplotlib.pyplot as plt\n",
    "import numpy as np\n",
    "import cv2"
   ]
  },
  {
   "cell_type": "code",
   "execution_count": null,
   "metadata": {},
   "outputs": [],
   "source": [
    "# Load image\n",
    "img_path = 'images\\\\handwritetest_3.png'\n",
    "img = cv2.imread(img_path, cv2.IMREAD_GRAYSCALE)\n",
    "\n",
    "# Arrange the image available for feeding to the model\n",
    "img = cv2.resize(img, (28, 28), interpolation = cv2.INTER_AREA)\n",
    "img = 255 - img\n",
    "# print(img)\n",
    "img[img < 115] = 0\n",
    "img = img / 255.0\n",
    "img = img.reshape(1, 28, 28)\n",
    "\n",
    "# Show image\n",
    "plt.imshow(img[0], cmap='gray')\n",
    "plt.show()\n",
    "\n",
    "# Pass image to our model\n",
    "# predictions = model.predict(img)\n",
    "# print(predictions[0])\n",
    "# predicted_class = np.argmax(predictions[0])\n",
    "\n",
    "# print('Predicted class: ', predicted_class)"
   ]
  },
  {
   "cell_type": "code",
   "execution_count": null,
   "metadata": {},
   "outputs": [],
   "source": [
    "img = cv2.imread('images\\\\chessmove_7.png')\n",
    "\n",
    "gray = cv2.cvtColor(img, cv2.COLOR_BGR2GRAY)\n",
    "cv2.imshow('gray', gray)\n",
    "\n",
    "ret, thresh = cv2.threshold(gray, 0, 255, cv2.THRESH_OTSU)\n",
    "cv2.imshow('thresh', thresh)\n",
    "\n",
    "ctrs, _ = cv2.findContours(thresh.copy(), cv2.RETR_LIST, cv2.CHAIN_APPROX_SIMPLE)\n",
    "sorted_ctrs = sorted(ctrs, key=lambda ctr: cv2.boundingRect(ctr)[0])\n",
    "\n",
    "extracted_symbol_counter = 0\n",
    "for i, ctr in enumerate(sorted_ctrs):\n",
    "    x, y, w, h = cv2.boundingRect(ctr)\n",
    "    area = w*h\n",
    "    if 15000 < area < 60000:\n",
    "        # rect = cv2.rectangle(img, (x, y), (x + w, y + h), (0, 255, 0), 2)\n",
    "        # cv2.imshow('rect', rect)\n",
    "        roi = img[y:y + h, x:x + w]\n",
    "        cv2.imwrite(f'images\\\\chessmove_7_extracted_{extracted_symbol_counter}.png', roi)\n",
    "        extracted_symbol_counter += 1\n",
    "\n",
    "cv2.waitKey(0)"
   ]
  },
  {
   "cell_type": "code",
   "execution_count": null,
   "metadata": {},
   "outputs": [],
   "source": [
    "img_sym = cv2.imread('images\\\\chessmove_7_extracted_1.png')\n",
    "\n",
    "gray_sym = cv2.cvtColor(img_sym, cv2.COLOR_BGR2GRAY)\n",
    "# cv2.imshow('gray', gray_sym)\n",
    "\n",
    "ret, thresh_sym = cv2.threshold(gray_sym, 0, 255, cv2.THRESH_OTSU)\n",
    "# cv2.imshow('thresh', thresh_sym)\n",
    "\n",
    "# Define the desired size of the square image (AxA)\n",
    "desired_size = max(thresh_sym.shape) + 40  # offset\n",
    "\n",
    "# Create a blank square image of the desired size\n",
    "resized_image = np.ones((desired_size, desired_size), dtype=np.uint8) * 255\n",
    "\n",
    "# Calculate the position to place the original image in the center\n",
    "x_offset = (desired_size - thresh_sym.shape[1]) // 2\n",
    "y_offset = (desired_size - thresh_sym.shape[0]) // 2\n",
    "\n",
    "# Place the original image in the center of the blank square image\n",
    "resized_image[y_offset:y_offset + thresh_sym.shape[0], x_offset:x_offset + thresh_sym.shape[1]] = thresh_sym\n",
    "\n",
    "# Downscale the resized image to the target size (e.g., 28x28)\n",
    "downscaled_image = cv2.resize(resized_image, (28, 28))\n",
    "\n",
    "# Display or save the downscaled image\n",
    "plt.imshow(downscaled_image, cmap='gray')\n",
    "cv2.imwrite('images\\\\chessmove_7_filtered_1.png', downscaled_image)\n",
    "# cv2.imshow('Downscaled Image', downscaled_image)\n",
    "# cv2.waitKey(0)\n",
    "# cv2.destroyAllWindows()"
   ]
  }
 ],
 "metadata": {
  "kernelspec": {
   "display_name": "ocrenv",
   "language": "python",
   "name": "python3"
  },
  "language_info": {
   "codemirror_mode": {
    "name": "ipython",
    "version": 3
   },
   "file_extension": ".py",
   "mimetype": "text/x-python",
   "name": "python",
   "nbconvert_exporter": "python",
   "pygments_lexer": "ipython3",
   "version": "3.10.6"
  }
 },
 "nbformat": 4,
 "nbformat_minor": 2
}
