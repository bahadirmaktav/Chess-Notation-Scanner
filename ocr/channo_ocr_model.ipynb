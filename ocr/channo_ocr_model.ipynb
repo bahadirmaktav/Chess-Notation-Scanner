{
 "cells": [
  {
   "cell_type": "code",
   "execution_count": null,
   "metadata": {},
   "outputs": [],
   "source": [
    "import matplotlib.pyplot as plt\n",
    "import tensorflow as tf\n",
    "import pandas as pd\n",
    "import numpy as np\n",
    "import cv2\n",
    "from keras.layers import Dense, Flatten\n",
    "from keras.utils import to_categorical\n",
    "from keras.models import Sequential\n",
    "from keras.datasets import mnist"
   ]
  },
  {
   "cell_type": "code",
   "execution_count": null,
   "metadata": {},
   "outputs": [],
   "source": [
    "################################################################################################\n",
    "####################################### DATASET CSV LOAD #######################################\n",
    "\n",
    "train_data_size   = 405131\n",
    "test_data_size    = 67732\n",
    "height_pixel_size = 28\n",
    "width_pixel_size  = 28\n",
    "\n",
    "# Loads train image data and verify with initial data\n",
    "loaded_df_train_image_data = pd.read_csv('dataset\\\\train_image_data.csv')\n",
    "loaded_array_train_image_data = loaded_df_train_image_data.to_numpy().reshape(train_data_size, height_pixel_size, width_pixel_size)\n",
    "\n",
    "# Loads train label data and verify with initial data\n",
    "loaded_df_train_label_data = pd.read_csv('dataset\\\\train_label_data.csv')\n",
    "loaded_array_train_label_data = loaded_df_train_label_data.to_numpy().reshape(train_data_size)\n",
    "\n",
    "# Loads test image data and verify with initial data\n",
    "loaded_df_test_image_data = pd.read_csv('dataset\\\\test_image_data.csv')\n",
    "loaded_array_test_image_data = loaded_df_test_image_data.to_numpy().reshape(test_data_size, height_pixel_size, width_pixel_size)\n",
    "\n",
    "# Loads test label data and verify with initial data\n",
    "loaded_df_test_label_data = pd.read_csv('dataset\\\\test_label_data.csv')\n",
    "loaded_array_test_label_data = loaded_df_test_label_data.to_numpy().reshape(test_data_size)"
   ]
  },
  {
   "cell_type": "code",
   "execution_count": null,
   "metadata": {},
   "outputs": [],
   "source": [
    "# Set train and test data names to x and y for simplicity\n",
    "x_train, y_train = loaded_array_train_image_data, loaded_array_train_label_data\n",
    "x_test, y_test = loaded_array_test_image_data, loaded_array_test_label_data"
   ]
  },
  {
   "cell_type": "code",
   "execution_count": null,
   "metadata": {},
   "outputs": [],
   "source": [
    "# Normalization\n",
    "x_train = x_train / 255.0\n",
    "x_test = x_test / 255.0\n",
    "\n",
    "# Set outputs as categorical. eg. 4 to [0,0,0,0,1,0,0,0...]\n",
    "# There are 26 classes total (symbols, characters etc.)\n",
    "y_train = to_categorical(y_train, 26)\n",
    "y_test = to_categorical(y_test, 26)\n",
    "\n",
    "# Create model\n",
    "model = Sequential([\n",
    "  Flatten(input_shape=(28, 28)),\n",
    "  Dense(128, activation='relu'),\n",
    "  Dense(26, activation='softmax')\n",
    "])\n",
    "\n",
    "# Compile model\n",
    "model.compile(optimizer='adam',\n",
    "              loss='categorical_crossentropy',\n",
    "              metrics=['accuracy'])\n",
    "\n",
    "# Train model\n",
    "history = model.fit(x_train, y_train, epochs=8, validation_data=(x_test, y_test))"
   ]
  },
  {
   "cell_type": "code",
   "execution_count": null,
   "metadata": {},
   "outputs": [],
   "source": [
    "# Save model\n",
    "model.save(\"models\\channo_v0.1.keras\")"
   ]
  },
  {
   "cell_type": "code",
   "execution_count": null,
   "metadata": {},
   "outputs": [],
   "source": [
    "# Plot Loss-Epoch Graph\n",
    "plt.plot(history.history['loss'], label='Training Loss')\n",
    "plt.plot(history.history['val_loss'], label='Validation Loss')\n",
    "plt.title('Training and Validation Loss')\n",
    "plt.xlabel('Epoch')\n",
    "plt.ylabel('Loss Value')\n",
    "plt.legend()\n",
    "plt.show()\n",
    "\n",
    "# Plot Accuracy-Epoch Graph \n",
    "plt.plot(history.history['accuracy'], label='Training Accuracy')\n",
    "plt.plot(history.history['val_accuracy'], label='Validation Accuracy')\n",
    "plt.title('Training and Validation Accuracy')\n",
    "plt.xlabel('Epoch')\n",
    "plt.ylabel('Accuracy')\n",
    "plt.legend()\n",
    "plt.show()"
   ]
  },
  {
   "cell_type": "code",
   "execution_count": null,
   "metadata": {},
   "outputs": [],
   "source": [
    "################################################################################################\n",
    "###################################### CUSTOM IMAGE TEST #######################################\n",
    "\n",
    "# Load model\n",
    "model = tf.keras.models.load_model(\"models\\channo_v0.1.keras\")\n",
    "\n",
    "# Load image\n",
    "img_path = 'images\\\\chessmove_7_filtered_1.png'\n",
    "img = cv2.imread(img_path, cv2.IMREAD_GRAYSCALE)\n",
    "\n",
    "# Arrange the image available for feeding to the model\n",
    "img = cv2.resize(img, (28, 28), interpolation = cv2.INTER_AREA)\n",
    "img = 255 - img\n",
    "# img[img < 120] = 0\n",
    "img = img / 255.0\n",
    "img = img.reshape(1, 28, 28)\n",
    "\n",
    "# Show image\n",
    "plt.imshow(img[0], cmap='gray')\n",
    "plt.show()\n",
    "\n",
    "# Pass image to our model\n",
    "predictions = model.predict(img)\n",
    "print(predictions[0])\n",
    "predicted_class = np.argmax(predictions[0])\n",
    "\n",
    "print('Predicted class: ', predicted_class)"
   ]
  }
 ],
 "metadata": {
  "kernelspec": {
   "display_name": "ocrenv",
   "language": "python",
   "name": "python3"
  },
  "language_info": {
   "codemirror_mode": {
    "name": "ipython",
    "version": 3
   },
   "file_extension": ".py",
   "mimetype": "text/x-python",
   "name": "python",
   "nbconvert_exporter": "python",
   "pygments_lexer": "ipython3",
   "version": "3.10.6"
  }
 },
 "nbformat": 4,
 "nbformat_minor": 2
}
